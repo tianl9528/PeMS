{
 "cells": [
  {
   "cell_type": "code",
   "execution_count": 1,
   "metadata": {
    "collapsed": true
   },
   "outputs": [],
   "source": [
    "import pandas as pd\n",
    "import numpy as np"
   ]
  },
  {
   "cell_type": "code",
   "execution_count": 2,
   "metadata": {
    "collapsed": true
   },
   "outputs": [],
   "source": [
    "df = pd.read_hdf('./data/data_final.h5')"
   ]
  },
  {
   "cell_type": "code",
   "execution_count": 3,
   "metadata": {},
   "outputs": [
    {
     "name": "stdout",
     "output_type": "stream",
     "text": [
      "<class 'pandas.core.frame.DataFrame'>\n",
      "Int64Index: 344736 entries, 0 to 344735\n",
      "Data columns (total 8 columns):\n",
      "STA_DATETIME    344736 non-null float64\n",
      "STATION_ID      344736 non-null int64\n",
      "LATITUDE        344736 non-null float64\n",
      "LONGITUDE       344736 non-null float64\n",
      "VOLUME          344736 non-null float64\n",
      "OCC             344736 non-null float64\n",
      "SPEED           344736 non-null float64\n",
      "NUM_SAMPLES     344736 non-null int64\n",
      "dtypes: float64(6), int64(2)\n",
      "memory usage: 23.7 MB\n",
      "None\n"
     ]
    },
    {
     "data": {
      "text/html": [
       "<div>\n",
       "<style>\n",
       "    .dataframe thead tr:only-child th {\n",
       "        text-align: right;\n",
       "    }\n",
       "\n",
       "    .dataframe thead th {\n",
       "        text-align: left;\n",
       "    }\n",
       "\n",
       "    .dataframe tbody tr th {\n",
       "        vertical-align: top;\n",
       "    }\n",
       "</style>\n",
       "<table border=\"1\" class=\"dataframe\">\n",
       "  <thead>\n",
       "    <tr style=\"text-align: right;\">\n",
       "      <th></th>\n",
       "      <th>STA_DATETIME</th>\n",
       "      <th>STATION_ID</th>\n",
       "      <th>LATITUDE</th>\n",
       "      <th>LONGITUDE</th>\n",
       "      <th>VOLUME</th>\n",
       "      <th>OCC</th>\n",
       "      <th>SPEED</th>\n",
       "      <th>NUM_SAMPLES</th>\n",
       "    </tr>\n",
       "  </thead>\n",
       "  <tbody>\n",
       "    <tr>\n",
       "      <th>0</th>\n",
       "      <td>0.0</td>\n",
       "      <td>400000</td>\n",
       "      <td>38.081167</td>\n",
       "      <td>-122.547606</td>\n",
       "      <td>62.0</td>\n",
       "      <td>0.0</td>\n",
       "      <td>64.0</td>\n",
       "      <td>0</td>\n",
       "    </tr>\n",
       "    <tr>\n",
       "      <th>1</th>\n",
       "      <td>300.0</td>\n",
       "      <td>400000</td>\n",
       "      <td>38.081167</td>\n",
       "      <td>-122.547606</td>\n",
       "      <td>46.0</td>\n",
       "      <td>0.0</td>\n",
       "      <td>64.0</td>\n",
       "      <td>0</td>\n",
       "    </tr>\n",
       "    <tr>\n",
       "      <th>2</th>\n",
       "      <td>600.0</td>\n",
       "      <td>400000</td>\n",
       "      <td>38.081167</td>\n",
       "      <td>-122.547606</td>\n",
       "      <td>68.0</td>\n",
       "      <td>0.0</td>\n",
       "      <td>65.0</td>\n",
       "      <td>0</td>\n",
       "    </tr>\n",
       "    <tr>\n",
       "      <th>3</th>\n",
       "      <td>900.0</td>\n",
       "      <td>400000</td>\n",
       "      <td>38.081167</td>\n",
       "      <td>-122.547606</td>\n",
       "      <td>86.0</td>\n",
       "      <td>0.0</td>\n",
       "      <td>65.0</td>\n",
       "      <td>0</td>\n",
       "    </tr>\n",
       "    <tr>\n",
       "      <th>4</th>\n",
       "      <td>1200.0</td>\n",
       "      <td>400000</td>\n",
       "      <td>38.081167</td>\n",
       "      <td>-122.547606</td>\n",
       "      <td>95.0</td>\n",
       "      <td>0.0</td>\n",
       "      <td>64.0</td>\n",
       "      <td>0</td>\n",
       "    </tr>\n",
       "  </tbody>\n",
       "</table>\n",
       "</div>"
      ],
      "text/plain": [
       "   STA_DATETIME  STATION_ID   LATITUDE   LONGITUDE  VOLUME  OCC  SPEED  \\\n",
       "0           0.0      400000  38.081167 -122.547606    62.0  0.0   64.0   \n",
       "1         300.0      400000  38.081167 -122.547606    46.0  0.0   64.0   \n",
       "2         600.0      400000  38.081167 -122.547606    68.0  0.0   65.0   \n",
       "3         900.0      400000  38.081167 -122.547606    86.0  0.0   65.0   \n",
       "4        1200.0      400000  38.081167 -122.547606    95.0  0.0   64.0   \n",
       "\n",
       "   NUM_SAMPLES  \n",
       "0            0  \n",
       "1            0  \n",
       "2            0  \n",
       "3            0  \n",
       "4            0  "
      ]
     },
     "execution_count": 3,
     "metadata": {},
     "output_type": "execute_result"
    }
   ],
   "source": [
    "print(df.info())\n",
    "df.head()"
   ]
  },
  {
   "cell_type": "markdown",
   "metadata": {},
   "source": [
    "## 划分数据集"
   ]
  },
  {
   "cell_type": "code",
   "execution_count": 4,
   "metadata": {
    "collapsed": true
   },
   "outputs": [],
   "source": [
    "from sklearn.model_selection import train_test_split"
   ]
  },
  {
   "cell_type": "code",
   "execution_count": 5,
   "metadata": {
    "collapsed": true
   },
   "outputs": [],
   "source": [
    "X = df.iloc[:,:6]\n",
    "y = df.iloc[:,[6]]"
   ]
  },
  {
   "cell_type": "code",
   "execution_count": 6,
   "metadata": {
    "collapsed": true
   },
   "outputs": [],
   "source": [
    "X_train, X_test, y_train, y_test = train_test_split(X, y, random_state=33, test_size=0.25)"
   ]
  },
  {
   "cell_type": "markdown",
   "metadata": {},
   "source": [
    "## 标准化数据 \n",
    "`StandardScaler()`\n",
    "\n",
    "$x'=\\frac{x-\\overline{X}}{S}$"
   ]
  },
  {
   "cell_type": "code",
   "execution_count": 7,
   "metadata": {
    "collapsed": true
   },
   "outputs": [],
   "source": [
    "from sklearn.preprocessing import StandardScaler\n",
    "ss_X = StandardScaler()\n",
    "ss_y = StandardScaler()"
   ]
  },
  {
   "cell_type": "code",
   "execution_count": 8,
   "metadata": {
    "collapsed": true
   },
   "outputs": [],
   "source": [
    "X_train = ss_X.fit_transform(X_train)\n",
    "X_test = ss_X.transform(X_test)\n",
    "y_train = ss_y.fit_transform(y_train)\n",
    "y_test = ss_y.transform(y_test)"
   ]
  },
  {
   "cell_type": "markdown",
   "metadata": {},
   "source": [
    "## 评价标准\n",
    "- $R^2$\n",
    "- $MSE$\n",
    "- $MAE$"
   ]
  },
  {
   "cell_type": "code",
   "execution_count": 9,
   "metadata": {
    "collapsed": true
   },
   "outputs": [],
   "source": [
    "# r2_score, mean_absolute_error, mean_squared_error\n",
    "from sklearn.metrics import r2_score, mean_absolute_error, mean_squared_error\n",
    "def show_score(method, y_true, y_pred):\n",
    "    r2, mse, mae = '', '', ''\n",
    "    for i in range(len(method)):\n",
    "        score_r2 = r2_score(y_true[i],y_pred[i])\n",
    "        score_mse = mean_squared_error(y_true[i],y_pred[i])\n",
    "        score_mae = mean_absolute_error(y_true[i],y_pred[i])\n",
    "        r2 += str(method[i]) + ': ' + str(score_r2) + '\\t'\n",
    "        mse += str(method[i]) + ': ' + str(score_mse) + '\\t'\n",
    "        mae += str(method[i]) + ': ' + str(score_mae) + '\\t'\n",
    "    print ('\\nR-squared 得分\\n' + r2)\n",
    "    print ('\\nMSE 得分\\n' + mse)\n",
    "    print ('\\nMAE 得分\\n' + mae)"
   ]
  },
  {
   "cell_type": "markdown",
   "metadata": {},
   "source": [
    "## 模型"
   ]
  },
  {
   "cell_type": "markdown",
   "metadata": {},
   "source": [
    "### LinearRegression，SGDRegressor"
   ]
  },
  {
   "cell_type": "code",
   "execution_count": 10,
   "metadata": {
    "collapsed": true
   },
   "outputs": [],
   "source": [
    "# LinearRegression\n",
    "from sklearn.linear_model import LinearRegression\n",
    "\n",
    "lr = LinearRegression()\n",
    "lr.fit(X_train, y_train)\n",
    "lr_y_predict = lr.predict(X_test)"
   ]
  },
  {
   "cell_type": "code",
   "execution_count": 11,
   "metadata": {
    "collapsed": true
   },
   "outputs": [],
   "source": [
    "# SGDRegressor\n",
    "from sklearn.linear_model import SGDRegressor\n",
    "\n",
    "# SGDRegressor 的输出需要一维数据\n",
    "y_sgdr_train = y_train[:,0]\n",
    "y_sgdr_test = y_test[:,0]\n",
    "\n",
    "sgdr = SGDRegressor(max_iter=1000)\n",
    "sgdr.fit(X_train, y_sgdr_train)\n",
    "sgdr_y_predict = sgdr.predict(X_test)"
   ]
  },
  {
   "cell_type": "markdown",
   "metadata": {},
   "source": [
    "#### 得分 - LinearRegression，SGDRegressor"
   ]
  },
  {
   "cell_type": "code",
   "execution_count": 12,
   "metadata": {},
   "outputs": [
    {
     "name": "stdout",
     "output_type": "stream",
     "text": [
      "\n",
      "R-squared 得分\n",
      "LinearRegression: 0.112960470898\tSGDRegressor: 0.113014326057\t\n",
      "\n",
      "MSE 得分\n",
      "LinearRegression: 0.870643886719\tSGDRegressor: 0.870591026994\t\n",
      "\n",
      "MAE 得分\n",
      "LinearRegression: 0.677551433274\tSGDRegressor: 0.677447073247\t\n"
     ]
    }
   ],
   "source": [
    "methed = ['LinearRegression','SGDRegressor']\n",
    "y_true = [y_test, y_sgdr_test]\n",
    "y_pred = [lr_y_predict,sgdr_y_predict]\n",
    "show_score(methed,y_true,y_pred)"
   ]
  },
  {
   "cell_type": "markdown",
   "metadata": {},
   "source": [
    "### KNeighborsRegressor\n",
    "- weights = distance\n",
    "- weights = uniform"
   ]
  },
  {
   "cell_type": "code",
   "execution_count": 13,
   "metadata": {
    "collapsed": true
   },
   "outputs": [],
   "source": [
    "# KNeighborsRegressor\n",
    "from sklearn.neighbors import KNeighborsRegressor"
   ]
  },
  {
   "cell_type": "code",
   "execution_count": 14,
   "metadata": {
    "collapsed": true
   },
   "outputs": [],
   "source": [
    "# weights = distanc\n",
    "dis_knr=KNeighborsRegressor(weights='distance')\n",
    "dis_knr.fit(X_train, y_train)\n",
    "dis_knr_y_predict=dis_knr.predict(X_test)"
   ]
  },
  {
   "cell_type": "code",
   "execution_count": 15,
   "metadata": {
    "collapsed": true
   },
   "outputs": [],
   "source": [
    "# weights = uniform\n",
    "uni_knr=KNeighborsRegressor(weights='uniform')\n",
    "uni_knr.fit(X_train, y_train)\n",
    "uni_knr_y_predict=uni_knr.predict(X_test)"
   ]
  },
  {
   "cell_type": "markdown",
   "metadata": {
    "collapsed": true
   },
   "source": [
    "#### 得分 - KNeighborsRegressor"
   ]
  },
  {
   "cell_type": "code",
   "execution_count": 16,
   "metadata": {},
   "outputs": [
    {
     "name": "stdout",
     "output_type": "stream",
     "text": [
      "\n",
      "R-squared 得分\n",
      "KNN-distance: 0.893691810102\tKNN-uniform: 0.876195974434\t\n",
      "\n",
      "MSE 得分\n",
      "KNN-distance: 0.104343236808\tKNN-uniform: 0.121515687265\t\n",
      "\n",
      "MAE 得分\n",
      "KNN-distance: 0.184975559414\tKNN-uniform: 0.201668438081\t\n"
     ]
    }
   ],
   "source": [
    "methed = ['KNN-distance','KNN-uniform']\n",
    "y_true = [y_test, y_test]\n",
    "y_pred = [dis_knr_y_predict,uni_knr_y_predict]\n",
    "show_score(methed,y_true,y_pred)"
   ]
  },
  {
   "cell_type": "markdown",
   "metadata": {},
   "source": [
    "### DecisionTreeRegressor"
   ]
  },
  {
   "cell_type": "code",
   "execution_count": 17,
   "metadata": {
    "collapsed": true
   },
   "outputs": [],
   "source": [
    "# DecisionTreeRegressor\n",
    "from sklearn.tree import DecisionTreeRegressor\n",
    "\n",
    "dtr=DecisionTreeRegressor()\n",
    "dtr.fit(X_train, y_train)\n",
    "dtr_y_predict=dtr.predict(X_test)"
   ]
  },
  {
   "cell_type": "markdown",
   "metadata": {},
   "source": [
    "#### 得分 - DecisionTreeRegressor"
   ]
  },
  {
   "cell_type": "code",
   "execution_count": 18,
   "metadata": {},
   "outputs": [
    {
     "name": "stdout",
     "output_type": "stream",
     "text": [
      "\n",
      "R-squared 得分\n",
      "DecisionTreeRegressor: 0.949351864665\t\n",
      "\n",
      "MSE 得分\n",
      "DecisionTreeRegressor: 0.049711977828\t\n",
      "\n",
      "MAE 得分\n",
      "DecisionTreeRegressor: 0.117338188147\t\n"
     ]
    }
   ],
   "source": [
    "methed = ['DecisionTreeRegressor']\n",
    "y_true = [y_test]\n",
    "y_pred = [dtr_y_predict]\n",
    "show_score(methed,y_true,y_pred)"
   ]
  },
  {
   "cell_type": "markdown",
   "metadata": {},
   "source": [
    "### Ensemble Methods\n",
    "- RandomForestRegressor\n",
    "- ExtraTreesRegressor\n",
    "- GradientBoostingRegressor"
   ]
  },
  {
   "cell_type": "code",
   "execution_count": 19,
   "metadata": {
    "collapsed": true
   },
   "outputs": [],
   "source": [
    "# RandomForestRegressor\n",
    "from sklearn.ensemble import RandomForestRegressor\n",
    "\n",
    "# RandomForestRegressor 的输出需要一维数据\n",
    "y_rfr_train = y_train[:,0]\n",
    "y_rfr_test = y_test[:,0]\n",
    "\n",
    "rfr=RandomForestRegressor()\n",
    "rfr.fit(X_train, y_rfr_train)\n",
    "rfr_y_predict = rfr.predict(X_test)"
   ]
  },
  {
   "cell_type": "code",
   "execution_count": 20,
   "metadata": {
    "collapsed": true
   },
   "outputs": [],
   "source": [
    "# ExtraTreesRegressor\n",
    "from sklearn.ensemble import ExtraTreesRegressor\n",
    "\n",
    "# ExtraTreesRegressor 的输出需要一维数据\n",
    "y_etr_train = y_train[:,0]\n",
    "y_etr_test = y_test[:,0]\n",
    "\n",
    "etr=ExtraTreesRegressor()\n",
    "etr.fit(X_train, y_etr_train)\n",
    "etr_y_predict = etr.predict(X_test)"
   ]
  },
  {
   "cell_type": "code",
   "execution_count": 21,
   "metadata": {
    "collapsed": true
   },
   "outputs": [],
   "source": [
    "# GradientBoostingRegressor\n",
    "from sklearn.ensemble import GradientBoostingRegressor\n",
    "\n",
    "# GradientBoostingRegressor 的输出需要一维数据\n",
    "y_gbr_train = y_train[:,0]\n",
    "y_gbr_test = y_test[:,0]\n",
    "\n",
    "gbr=GradientBoostingRegressor()\n",
    "gbr.fit(X_train, y_gbr_train)\n",
    "gbr_y_predict = gbr.predict(X_test)"
   ]
  },
  {
   "cell_type": "markdown",
   "metadata": {},
   "source": [
    "#### 得分 - RandomForestRegressor, ExtraTreesRegressor, GradientBoostingRegressor"
   ]
  },
  {
   "cell_type": "code",
   "execution_count": 22,
   "metadata": {},
   "outputs": [
    {
     "name": "stdout",
     "output_type": "stream",
     "text": [
      "\n",
      "R-squared 得分\n",
      "RandomForestRegressor: 0.96716332804\tExtraTreesRegressor: 0.962733018571\tGradientBoostingRegressor: 0.426370021136\t\n",
      "\n",
      "MSE 得分\n",
      "RandomForestRegressor: 0.0322297335852\tExtraTreesRegressor: 0.036578155193\tGradientBoostingRegressor: 0.563027258596\t\n",
      "\n",
      "MAE 得分\n",
      "RandomForestRegressor: 0.106344162137\tExtraTreesRegressor: 0.116503383112\tGradientBoostingRegressor: 0.546573537821\t\n"
     ]
    }
   ],
   "source": [
    "methed = ['RandomForestRegressor','ExtraTreesRegressor','GradientBoostingRegressor']\n",
    "y_true = [y_rfr_test, y_etr_test, y_gbr_test]\n",
    "y_pred = [rfr_y_predict, etr_y_predict, gbr_y_predict]\n",
    "show_score(methed,y_true,y_pred)"
   ]
  },
  {
   "cell_type": "markdown",
   "metadata": {},
   "source": [
    "### XGBRegressor\n",
    "- max_depth = default(3)\n",
    "- max_depth = 10\n",
    "- max_depth = 20"
   ]
  },
  {
   "cell_type": "code",
   "execution_count": 23,
   "metadata": {},
   "outputs": [
    {
     "name": "stderr",
     "output_type": "stream",
     "text": [
      "D:\\IDEs\\Anaconda2\\envs\\py35\\lib\\site-packages\\sklearn\\cross_validation.py:41: DeprecationWarning: This module was deprecated in version 0.18 in favor of the model_selection module into which all the refactored classes and functions are moved. Also note that the interface of the new CV iterators are different from that of this module. This module will be removed in 0.20.\n",
      "  \"This module will be removed in 0.20.\", DeprecationWarning)\n"
     ]
    }
   ],
   "source": [
    "# XGBRegressor\n",
    "from xgboost import XGBRegressor"
   ]
  },
  {
   "cell_type": "code",
   "execution_count": 24,
   "metadata": {
    "collapsed": true
   },
   "outputs": [],
   "source": [
    "# max_depth = default(3)\n",
    "d3_xgbr = XGBRegressor()\n",
    "d3_xgbr.fit(X_train,y_train)\n",
    "d3_xgbr_y_predict = d3_xgbr.predict(X_test)"
   ]
  },
  {
   "cell_type": "code",
   "execution_count": 25,
   "metadata": {
    "collapsed": true
   },
   "outputs": [],
   "source": [
    "# max_depth = 10\n",
    "d10_xgbr = XGBRegressor(max_depth = 10)\n",
    "d10_xgbr.fit(X_train,y_train)\n",
    "d10_xgbr_y_predict = d10_xgbr.predict(X_test)"
   ]
  },
  {
   "cell_type": "code",
   "execution_count": 26,
   "metadata": {
    "collapsed": true
   },
   "outputs": [],
   "source": [
    "# max_depth = 20\n",
    "d20_xgbr = XGBRegressor(max_depth = 20)\n",
    "d20_xgbr.fit(X_train,y_train)\n",
    "d20_xgbr_y_predict = d20_xgbr.predict(X_test)"
   ]
  },
  {
   "cell_type": "markdown",
   "metadata": {},
   "source": [
    "#### 得分 - XGBRegressor"
   ]
  },
  {
   "cell_type": "code",
   "execution_count": 27,
   "metadata": {},
   "outputs": [
    {
     "name": "stdout",
     "output_type": "stream",
     "text": [
      "\n",
      "R-squared 得分\n",
      "XGBR-d3: 0.420290790829\tXGBR-d10: 0.900011815206\tXGBR-d20: 0.970165393093\t\n",
      "\n",
      "MSE 得分\n",
      "XGBR-d3: 0.568994123126\tXGBR-d10: 0.0981400478544\tXGBR-d20: 0.0292831573615\t\n",
      "\n",
      "MAE 得分\n",
      "XGBR-d3: 0.549450947576\tXGBR-d10: 0.222173981266\tXGBR-d20: 0.103590061312\t\n"
     ]
    }
   ],
   "source": [
    "methed = ['XGBR-d3', 'XGBR-d10', 'XGBR-d20']\n",
    "y_true = [y_test, y_test, y_test]\n",
    "y_pred = [d3_xgbr_y_predict, d10_xgbr_y_predict, d20_xgbr_y_predict]\n",
    "show_score(methed,y_true,y_pred)"
   ]
  }
 ],
 "metadata": {
  "kernelspec": {
   "display_name": "Python 3",
   "language": "python",
   "name": "python3"
  },
  "language_info": {
   "codemirror_mode": {
    "name": "ipython",
    "version": 3
   },
   "file_extension": ".py",
   "mimetype": "text/x-python",
   "name": "python",
   "nbconvert_exporter": "python",
   "pygments_lexer": "ipython3",
   "version": "3.5.4"
  },
  "nbTranslate": {
   "displayLangs": [
    "ch",
    "en"
   ],
   "hotkey": "alt-t",
   "langInMainMenu": true,
   "sourceLang": "en",
   "targetLang": "ch",
   "useGoogleTranslate": true
  },
  "toc": {
   "nav_menu": {},
   "number_sections": true,
   "sideBar": true,
   "skip_h1_title": false,
   "toc_cell": false,
   "toc_position": {
    "height": "541px",
    "left": "0px",
    "right": "1130px",
    "top": "106px",
    "width": "236px"
   },
   "toc_section_display": "block",
   "toc_window_display": false
  },
  "varInspector": {
   "cols": {
    "lenName": 16,
    "lenType": 16,
    "lenVar": 40
   },
   "kernels_config": {
    "python": {
     "delete_cmd_postfix": "",
     "delete_cmd_prefix": "del ",
     "library": "var_list.py",
     "varRefreshCmd": "print(var_dic_list())"
    },
    "r": {
     "delete_cmd_postfix": ") ",
     "delete_cmd_prefix": "rm(",
     "library": "var_list.r",
     "varRefreshCmd": "cat(var_dic_list()) "
    }
   },
   "types_to_exclude": [
    "module",
    "function",
    "builtin_function_or_method",
    "instance",
    "_Feature"
   ],
   "window_display": false
  }
 },
 "nbformat": 4,
 "nbformat_minor": 2
}
